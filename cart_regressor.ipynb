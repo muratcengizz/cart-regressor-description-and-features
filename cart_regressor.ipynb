{
 "cells": [
  {
   "cell_type": "markdown",
   "id": "d9bef45c-e865-4610-99d6-dc3fa465237b",
   "metadata": {},
   "source": [
    "# Regresyon Ağaçları (Classification and Regression Trees)\n",
    "\n",
    "### Regresyon ağaçları, CART (Classification and Regression Trees) olarak da bilinen bir makine öğrenimi algoritmasıdır. CART, hem sınıflandırma hem de regresyon problemleri için kullanılabilen bir karar ağacı algoritmasıdır. Temel olarak, veri kümesindeki desenleri ve ilişkileri belirlemek için bir ağaç yapısı kullanır. \n",
    "\n",
    "### Regresyon ağaçları, regresyon problemlerini çözmek için kullanılan bir öğrenme yöntemidir. Bir regresyon ağacı, veri kümesini parçalara böler ve her parçaya bir regresyon modeli atar. Veri kümesi, bağımsız değişkenlerin (özelliklerin) ve bağımlı değişkenin (hedefin) birlikte olduğu bir veri tablosu olarak düşünülebilir.\n",
    "\n",
    "### CART algoritması, veri kümesini bölme işlemlerini yaparak ağacı oluşturur. Bölme işlemleri, veri kümesini en iyi şekilde bölen bir özellik ve eşik değeri seçerek gerçekleştirilir. Bu sayede, her bir düğümdeki alt küme daha homojen hale gelir ve böylece regresyon modeli daha iyi bir tahmin yapabilir.\n",
    "\n",
    "### Ağacın yapısı, kök düğümden başlayarak dallanma ve yaprak düğümlere doğru ilerleyen bir hiyerarşi şeklinde oluşturulur. Her bir yaprak düğümü, veri kümesinin bir parçasına karşılık gelir ve o parçadaki veriler için bir regresyon modeli kullanılır. Bu modeller genellikle yaprak düğümündeki veri noktalarının ortalamasını veya ağırlık ortalamasını tahmin etmek için kullanılır.\n",
    "\n",
    "### Regresyon ağaçları, birçok avantaja sahiptir. Bunlar arasında veri önişleme ihtiyacının düşük olması, kategorik ve sayısal özelliklerle çalışabilmesi, doğrusal olmayan ilişkileri modelleyebilmesi ve yüksek boyutlu veri kümesiyle başa çıkabilmesi yer alır. Ayrıca, sonuçları açık ve yorumlanabilir bir şekilde sunması da avantajlarından biridir.\n",
    "\n",
    "### Regresyon ağaçları, özellikle büyük ve karmaşık veri kümeleriyle çalışırken etkili sonuçlar elde etmek için sıklıkla kullanılan bir algoritmadır. Tahmin yapmak için hızlı ve esnek bir yöntem arayan veri bilimciler ve makine öğrenimi uygulayıcıları tarafından sıkça tercih edilir."
   ]
  },
  {
   "cell_type": "code",
   "execution_count": 1,
   "id": "a206c692-3d78-411f-9616-b29ce2ef8cb7",
   "metadata": {},
   "outputs": [],
   "source": [
    "from sklearn.tree import DecisionTreeRegressor"
   ]
  },
  {
   "cell_type": "code",
   "execution_count": 7,
   "id": "20717eaf-d08f-4f9f-ba69-64409270dfa4",
   "metadata": {},
   "outputs": [
    {
     "data": {
      "text/plain": [
       "{'ccp_alpha': 0.0,\n",
       " 'criterion': 'squared_error',\n",
       " 'max_depth': None,\n",
       " 'max_features': None,\n",
       " 'max_leaf_nodes': None,\n",
       " 'min_impurity_decrease': 0.0,\n",
       " 'min_samples_leaf': 1,\n",
       " 'min_samples_split': 2,\n",
       " 'min_weight_fraction_leaf': 0.0,\n",
       " 'random_state': None,\n",
       " 'splitter': 'best'}"
      ]
     },
     "execution_count": 7,
     "metadata": {},
     "output_type": "execute_result"
    }
   ],
   "source": [
    "DecisionTreeRegressor().get_params()"
   ]
  },
  {
   "cell_type": "markdown",
   "id": "a196674e-1735-4f1d-86b2-83517cb1b978",
   "metadata": {},
   "source": [
    "# Parametrelerin Özellikleri\n",
    "\n",
    "### criterion: Karar ağacının bölme kalitesini ölçek için kullanılan kriter.\n",
    "\n",
    "### splitter: Karar ağacının düğümleri bölerken kullanılan strateji. İki seçenek vardır. 'best' (en iyi) ve 'random' (rastgele). 'Best' seçeneği, en iyi bölmenin yapılacağı kriteri kullanırken 'random' seçeneği rastgele bir kriter seçer.\n",
    "\n",
    "### max_depth: Karar ağacının maksimum derinliği. Ağacın maksimum derinliğini belirler. Öntanımlı olarak 'None' olarak ayarlanır, bu durumda derinlik sınırsız olur.\n",
    "\n",
    "### min_samples_split: Bir düğümün bölnmesi için gereken minimum örnek sayısı. Öntanımlı değeri 2'dir. Eğer bir düğümün örnek sayısı bu değerin altına düşerse, bölme durur.\n",
    "\n",
    "### min_samples_leaf: Bir yaprağın minimum örnek sayısı. Bir yaprağın oluşturulması için gereken minimum örnek sayısını belirler. Öntanımlı değeri 1'dir.\n",
    "\n",
    "### min_weight_fraction_leaf: Bir yaprağın minimum ağırlık fraksiyonu. Öntanımlı değeri 0'dır. Bir yaprağın oluşturulması için gerekli olan minimum ağırlık fraksiyonunu belirler.\n",
    "\n",
    "### max_features: Bölünme için göz önünde bulundurulan maksimum özellik sayısı. Öntanımlı olarak 'None' olarak ayarlanır, bu durumda tüm özellikler göz önünde bulundurulur.\n",
    "\n",
    "### random_state: Rastgele sayı üretmek için kullanılan tohum değeri."
   ]
  }
 ],
 "metadata": {
  "kernelspec": {
   "display_name": "Python 3 (ipykernel)",
   "language": "python",
   "name": "python3"
  },
  "language_info": {
   "codemirror_mode": {
    "name": "ipython",
    "version": 3
   },
   "file_extension": ".py",
   "mimetype": "text/x-python",
   "name": "python",
   "nbconvert_exporter": "python",
   "pygments_lexer": "ipython3",
   "version": "3.9.12"
  }
 },
 "nbformat": 4,
 "nbformat_minor": 5
}
